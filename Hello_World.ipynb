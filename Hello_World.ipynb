{
  "nbformat": 4,
  "nbformat_minor": 0,
  "metadata": {
    "colab": {
      "name": "Hello World ",
      "provenance": [],
      "include_colab_link": true
    },
    "kernelspec": {
      "name": "python3",
      "display_name": "Python 3"
    }
  },
  "cells": [
    {
      "cell_type": "markdown",
      "metadata": {
        "id": "view-in-github",
        "colab_type": "text"
      },
      "source": [
        "<a href=\"https://colab.research.google.com/github/dnorton94/helloWorldColab/blob/master/Hello_World.ipynb\" target=\"_parent\"><img src=\"https://colab.research.google.com/assets/colab-badge.svg\" alt=\"Open In Colab\"/></a>"
      ]
    },
    {
      "cell_type": "markdown",
      "metadata": {
        "id": "GPtm0AqhmB7m",
        "colab_type": "text"
      },
      "source": [
        "#Google Colab Hello World"
      ]
    },
    {
      "cell_type": "markdown",
      "metadata": {
        "id": "FIIWsI6ZmM-4",
        "colab_type": "text"
      },
      "source": [
        "Below is my executable code in Google Colab"
      ]
    },
    {
      "cell_type": "code",
      "metadata": {
        "id": "ADlaSe6UlzUC",
        "colab_type": "code",
        "colab": {
          "base_uri": "https://localhost:8080/",
          "height": 34
        },
        "outputId": "27bf8abd-e773-4cb0-b2ee-04ffdeecb3cd"
      },
      "source": [
        "print (\"Hello World!\")\n"
      ],
      "execution_count": 1,
      "outputs": [
        {
          "output_type": "stream",
          "text": [
            "Hello World!\n"
          ],
          "name": "stdout"
        }
      ]
    }
  ]
}
